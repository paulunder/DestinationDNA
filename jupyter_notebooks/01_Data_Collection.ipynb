{
  "cells": [
    {
      "cell_type": "markdown",
      "metadata": {
        "id": "0aStgWSO0E0E"
      },
      "source": [
        "# **Collect Data**"
      ]
    },
    {
      "cell_type": "markdown",
      "metadata": {
        "id": "1eLEkw5O0ECa"
      },
      "source": [
        "## Objectives\n",
        "\n",
        "* Fetch data from Kaggle and save as raw data\n",
        "\n",
        "## Inputs\n",
        "\n",
        "* The dataset we use is namend Mountains VS Beaches - https://www.kaggle.com/datasets/jahnavipaliwal/mountains-vs-beaches-preference\n",
        "\n",
        "## Outputs\n",
        "\n",
        "* The raw data will be saved in the folder `data/raw`\n",
        "\n",
        "## Additional Comments\n",
        "\n",
        "* Please select Python 3.8.18 for the kernel of this notebook.\n",
        "* This notebook was inspired by the Data Collection Jupyter notebook in the Churnometer walkthrough project.\n",
        "\n"
      ]
    },
    {
      "cell_type": "markdown",
      "metadata": {
        "id": "9uWZXH9LwoQg"
      },
      "source": [
        "---"
      ]
    },
    {
      "cell_type": "markdown",
      "metadata": {
        "id": "cqP-UeN-z3i2"
      },
      "source": [
        "# Change working directory"
      ]
    },
    {
      "cell_type": "markdown",
      "metadata": {},
      "source": [
        "* Here the working directory is changed from the current directory to the root directory of the project."
      ]
    },
    {
      "cell_type": "markdown",
      "metadata": {
        "id": "aOGIGS-uz3i2"
      },
      "source": [
        "We need to change the working directory from its current folder to its parent folder\n",
        "* We access the current directory with os.getcwd()"
      ]
    },
    {
      "cell_type": "code",
      "execution_count": 1,
      "metadata": {
        "id": "wZfF_j-Bz3i4",
        "outputId": "66943449-1436-4c3d-85c7-b85f9f78349b"
      },
      "outputs": [
        {
          "data": {
            "text/plain": [
              "'/workspace/DestinationDNA/jupyter_notebooks'"
            ]
          },
          "execution_count": 1,
          "metadata": {},
          "output_type": "execute_result"
        }
      ],
      "source": [
        "import os\n",
        "current_dir = os.getcwd()\n",
        "current_dir"
      ]
    },
    {
      "cell_type": "markdown",
      "metadata": {
        "id": "9MWW8E7lz3i7"
      },
      "source": [
        "We want to make the parent of the current directory the new current directory\n",
        "* os.path.dirname() gets the parent directory\n",
        "* os.chir() defines the new current directory"
      ]
    },
    {
      "cell_type": "code",
      "execution_count": 2,
      "metadata": {
        "id": "TwHsQRWjz3i9",
        "outputId": "86849db3-cd2f-4cc5-ebb8-2d0caafa1a2c"
      },
      "outputs": [
        {
          "name": "stdout",
          "output_type": "stream",
          "text": [
            "You set a new current directory\n"
          ]
        }
      ],
      "source": [
        "os.chdir(os.path.dirname(current_dir))\n",
        "print(\"You set a new current directory\")"
      ]
    },
    {
      "cell_type": "markdown",
      "metadata": {
        "id": "M_xPk_Ijz3i-"
      },
      "source": [
        "Confirm the new current directory"
      ]
    },
    {
      "cell_type": "code",
      "execution_count": 3,
      "metadata": {
        "id": "vz3S-_kjz3jA",
        "outputId": "00b79ae4-75d0-4a96-d193-ac9ef9847ea2"
      },
      "outputs": [
        {
          "data": {
            "text/plain": [
              "'/workspace/DestinationDNA'"
            ]
          },
          "execution_count": 3,
          "metadata": {},
          "output_type": "execute_result"
        }
      ],
      "source": [
        "current_dir = os.getcwd()\n",
        "current_dir"
      ]
    },
    {
      "cell_type": "markdown",
      "metadata": {
        "id": "-mavJ8DibrcQ"
      },
      "source": [
        "# Section 1 - Data Retrieval"
      ]
    },
    {
      "cell_type": "markdown",
      "metadata": {},
      "source": [
        "Here we collect the zip dataset from kaggle - but first we need to install kaggle and authenticate our account."
      ]
    },
    {
      "cell_type": "code",
      "execution_count": 4,
      "metadata": {},
      "outputs": [
        {
          "name": "stdout",
          "output_type": "stream",
          "text": [
            "Collecting kaggle==1.5.12\n",
            "  Downloading kaggle-1.5.12.tar.gz (58 kB)\n",
            "  Preparing metadata (setup.py) ... \u001b[?25ldone\n",
            "\u001b[?25hRequirement already satisfied: six>=1.10 in /home/gitpod/.pyenv/versions/3.8.18/lib/python3.8/site-packages (from kaggle==1.5.12) (1.16.0)\n",
            "Requirement already satisfied: certifi in /home/gitpod/.pyenv/versions/3.8.18/lib/python3.8/site-packages (from kaggle==1.5.12) (2024.8.30)\n",
            "Requirement already satisfied: python-dateutil in /home/gitpod/.pyenv/versions/3.8.18/lib/python3.8/site-packages (from kaggle==1.5.12) (2.9.0.post0)\n",
            "Requirement already satisfied: requests in /home/gitpod/.pyenv/versions/3.8.18/lib/python3.8/site-packages (from kaggle==1.5.12) (2.32.3)\n",
            "Collecting tqdm (from kaggle==1.5.12)\n",
            "  Downloading tqdm-4.66.6-py3-none-any.whl.metadata (57 kB)\n",
            "Collecting python-slugify (from kaggle==1.5.12)\n",
            "  Downloading python_slugify-8.0.4-py2.py3-none-any.whl.metadata (8.5 kB)\n",
            "Requirement already satisfied: urllib3 in /home/gitpod/.pyenv/versions/3.8.18/lib/python3.8/site-packages (from kaggle==1.5.12) (2.2.3)\n",
            "Collecting text-unidecode>=1.3 (from python-slugify->kaggle==1.5.12)\n",
            "  Downloading text_unidecode-1.3-py2.py3-none-any.whl.metadata (2.4 kB)\n",
            "Requirement already satisfied: charset-normalizer<4,>=2 in /home/gitpod/.pyenv/versions/3.8.18/lib/python3.8/site-packages (from requests->kaggle==1.5.12) (3.4.0)\n",
            "Requirement already satisfied: idna<4,>=2.5 in /home/gitpod/.pyenv/versions/3.8.18/lib/python3.8/site-packages (from requests->kaggle==1.5.12) (3.10)\n",
            "Downloading python_slugify-8.0.4-py2.py3-none-any.whl (10 kB)\n",
            "Downloading tqdm-4.66.6-py3-none-any.whl (78 kB)\n",
            "Downloading text_unidecode-1.3-py2.py3-none-any.whl (78 kB)\n",
            "Building wheels for collected packages: kaggle\n",
            "  Building wheel for kaggle (setup.py) ... \u001b[?25ldone\n",
            "\u001b[?25h  Created wheel for kaggle: filename=kaggle-1.5.12-py3-none-any.whl size=73027 sha256=3cc58fa084ef365ceb3d6b0ae225d772f870306863d26dc823c6a1abfac60532\n",
            "  Stored in directory: /home/gitpod/.cache/pip/wheels/29/da/11/144cc25aebdaeb4931b231e25fd34b394e6a5725cbb2f50106\n",
            "Successfully built kaggle\n",
            "Installing collected packages: text-unidecode, tqdm, python-slugify, kaggle\n",
            "Successfully installed kaggle-1.5.12 python-slugify-8.0.4 text-unidecode-1.3 tqdm-4.66.6\n",
            "Note: you may need to restart the kernel to use updated packages.\n"
          ]
        }
      ],
      "source": [
        "%pip install kaggle==1.5.12"
      ]
    },
    {
      "cell_type": "markdown",
      "metadata": {},
      "source": [
        "* Now we need to authenticate our account with the Kaggle JSON file."
      ]
    },
    {
      "cell_type": "code",
      "execution_count": 5,
      "metadata": {},
      "outputs": [],
      "source": [
        "import os\n",
        "os.environ['KAGGLE_CONFIG_DIR'] = os.getcwd()\n",
        "! chmod 600 kaggle.json"
      ]
    },
    {
      "cell_type": "code",
      "execution_count": 4,
      "metadata": {},
      "outputs": [
        {
          "name": "stdout",
          "output_type": "stream",
          "text": [
            "Traceback (most recent call last):\n",
            "  File \"/workspace/.pip-modules/bin/kaggle\", line 5, in <module>\n",
            "    from kaggle.cli import main\n",
            "  File \"/workspace/.pip-modules/lib/python3.8/site-packages/kaggle/__init__.py\", line 23, in <module>\n",
            "    api.authenticate()\n",
            "  File \"/workspace/.pip-modules/lib/python3.8/site-packages/kaggle/api/kaggle_api_extended.py\", line 164, in authenticate\n",
            "    raise IOError('Could not find {}. Make sure it\\'s located in'\n",
            "OSError: Could not find kaggle.json. Make sure it's located in /home/gitpod/.kaggle. Or use the environment method.\n"
          ]
        }
      ],
      "source": [
        "KaggleDatasetPath = \"jahnavipaliwal/mountains-vs-beaches-preference\"\n",
        "DestinationFolder = \"outputs/datasets/raw\"\n",
        "! kaggle datasets download -d {KaggleDatasetPath} -p {DestinationFolder}\n"
      ]
    },
    {
      "cell_type": "markdown",
      "metadata": {},
      "source": [
        "* Now we need to delete the kaggle.json file from the root directory and unzip the file to the raw data folder."
      ]
    },
    {
      "cell_type": "code",
      "execution_count": 10,
      "metadata": {},
      "outputs": [
        {
          "name": "stdout",
          "output_type": "stream",
          "text": [
            "unzip:  cannot find or open outputs/datasets/raw/*.zip, outputs/datasets/raw/*.zip.zip or outputs/datasets/raw/*.zip.ZIP.\n",
            "\n",
            "No zipfiles found.\n",
            "rm: cannot remove 'outputs/datasets/raw/*.zip': No such file or directory\n"
          ]
        }
      ],
      "source": [
        "! unzip {DestinationFolder}/*.zip -d {DestinationFolder}\n",
        "! rm {DestinationFolder}/*.zip\n",
        "! rm ./kaggle.json"
      ]
    },
    {
      "cell_type": "markdown",
      "metadata": {
        "id": "ZY3l0-AxO93d"
      },
      "source": [
        "---"
      ]
    },
    {
      "cell_type": "markdown",
      "metadata": {
        "id": "uFQo3ycuO-v6"
      },
      "source": [
        "# Section 2 - Removing unnecessary data"
      ]
    },
    {
      "cell_type": "markdown",
      "metadata": {},
      "source": [
        "Our dataset just have 1 csv file which we will use to train our model."
      ]
    },
    {
      "cell_type": "code",
      "execution_count": 2,
      "metadata": {},
      "outputs": [
        {
          "ename": "FileNotFoundError",
          "evalue": "[Errno 2] No such file or directory: '/workspace/DestinationDNA/jupyter_notebooks/outputs/datasets/raw'",
          "output_type": "error",
          "traceback": [
            "\u001b[0;31m---------------------------------------------------------------------------\u001b[0m",
            "\u001b[0;31mFileNotFoundError\u001b[0m                         Traceback (most recent call last)",
            "Cell \u001b[0;32mIn[2], line 4\u001b[0m\n\u001b[1;32m      1\u001b[0m \u001b[38;5;28;01mimport\u001b[39;00m \u001b[38;5;21;01mos\u001b[39;00m\n\u001b[1;32m      3\u001b[0m current_dir \u001b[38;5;241m=\u001b[39m os\u001b[38;5;241m.\u001b[39mgetcwd()\n\u001b[0;32m----> 4\u001b[0m \u001b[43mos\u001b[49m\u001b[38;5;241;43m.\u001b[39;49m\u001b[43mchdir\u001b[49m\u001b[43m(\u001b[49m\u001b[43mcurrent_dir\u001b[49m\u001b[43m \u001b[49m\u001b[38;5;241;43m+\u001b[39;49m\u001b[43m \u001b[49m\u001b[38;5;124;43m\"\u001b[39;49m\u001b[38;5;124;43m/outputs/datasets/raw\u001b[39;49m\u001b[38;5;124;43m\"\u001b[39;49m\u001b[43m)\u001b[49m\n\u001b[1;32m      5\u001b[0m current_dir \u001b[38;5;241m=\u001b[39m os\u001b[38;5;241m.\u001b[39mgetcwd()\n\u001b[1;32m      6\u001b[0m csv_files \u001b[38;5;241m=\u001b[39m os\u001b[38;5;241m.\u001b[39mlistdir(current_dir)\n",
            "\u001b[0;31mFileNotFoundError\u001b[0m: [Errno 2] No such file or directory: '/workspace/DestinationDNA/jupyter_notebooks/outputs/datasets/raw'"
          ]
        }
      ],
      "source": [
        "import os\n",
        "\n",
        "current_dir = os.getcwd()\n",
        "os.chdir(current_dir + \"/outputs/datasets/raw\")\n",
        "current_dir = os.getcwd()\n",
        "csv_files = os.listdir(current_dir)\n",
        "print(csv_files)"
      ]
    },
    {
      "cell_type": "code",
      "execution_count": 7,
      "metadata": {},
      "outputs": [
        {
          "name": "stdout",
          "output_type": "stream",
          "text": [
            "/workspace/DestinationDNA/jupyter_notebooks\n"
          ]
        },
        {
          "data": {
            "text/html": [
              "<div>\n",
              "<style scoped>\n",
              "    .dataframe tbody tr th:only-of-type {\n",
              "        vertical-align: middle;\n",
              "    }\n",
              "\n",
              "    .dataframe tbody tr th {\n",
              "        vertical-align: top;\n",
              "    }\n",
              "\n",
              "    .dataframe thead th {\n",
              "        text-align: right;\n",
              "    }\n",
              "</style>\n",
              "<table border=\"1\" class=\"dataframe\">\n",
              "  <thead>\n",
              "    <tr style=\"text-align: right;\">\n",
              "      <th></th>\n",
              "      <th>Age</th>\n",
              "      <th>Income</th>\n",
              "      <th>Travel_Frequency</th>\n",
              "      <th>Vacation_Budget</th>\n",
              "      <th>Proximity_to_Mountains</th>\n",
              "      <th>Proximity_to_Beaches</th>\n",
              "      <th>Pets</th>\n",
              "      <th>Environmental_Concerns</th>\n",
              "      <th>Preference</th>\n",
              "    </tr>\n",
              "  </thead>\n",
              "  <tbody>\n",
              "    <tr>\n",
              "      <th>count</th>\n",
              "      <td>52444.000000</td>\n",
              "      <td>52444.000000</td>\n",
              "      <td>52444.000000</td>\n",
              "      <td>52444.000000</td>\n",
              "      <td>52444.000000</td>\n",
              "      <td>52444.000000</td>\n",
              "      <td>52444.000000</td>\n",
              "      <td>52444.000000</td>\n",
              "      <td>52444.000000</td>\n",
              "    </tr>\n",
              "    <tr>\n",
              "      <th>mean</th>\n",
              "      <td>43.507360</td>\n",
              "      <td>70017.271280</td>\n",
              "      <td>4.489265</td>\n",
              "      <td>2741.799062</td>\n",
              "      <td>149.943502</td>\n",
              "      <td>149.888452</td>\n",
              "      <td>0.500858</td>\n",
              "      <td>0.498436</td>\n",
              "      <td>0.250706</td>\n",
              "    </tr>\n",
              "    <tr>\n",
              "      <th>std</th>\n",
              "      <td>14.985597</td>\n",
              "      <td>28847.560428</td>\n",
              "      <td>2.876130</td>\n",
              "      <td>1296.922423</td>\n",
              "      <td>86.548644</td>\n",
              "      <td>86.469248</td>\n",
              "      <td>0.500004</td>\n",
              "      <td>0.500002</td>\n",
              "      <td>0.433423</td>\n",
              "    </tr>\n",
              "    <tr>\n",
              "      <th>min</th>\n",
              "      <td>18.000000</td>\n",
              "      <td>20001.000000</td>\n",
              "      <td>0.000000</td>\n",
              "      <td>500.000000</td>\n",
              "      <td>0.000000</td>\n",
              "      <td>0.000000</td>\n",
              "      <td>0.000000</td>\n",
              "      <td>0.000000</td>\n",
              "      <td>0.000000</td>\n",
              "    </tr>\n",
              "    <tr>\n",
              "      <th>25%</th>\n",
              "      <td>31.000000</td>\n",
              "      <td>45048.250000</td>\n",
              "      <td>2.000000</td>\n",
              "      <td>1622.000000</td>\n",
              "      <td>75.000000</td>\n",
              "      <td>75.750000</td>\n",
              "      <td>0.000000</td>\n",
              "      <td>0.000000</td>\n",
              "      <td>0.000000</td>\n",
              "    </tr>\n",
              "    <tr>\n",
              "      <th>50%</th>\n",
              "      <td>43.000000</td>\n",
              "      <td>70167.000000</td>\n",
              "      <td>4.000000</td>\n",
              "      <td>2733.000000</td>\n",
              "      <td>150.000000</td>\n",
              "      <td>150.000000</td>\n",
              "      <td>1.000000</td>\n",
              "      <td>0.000000</td>\n",
              "      <td>0.000000</td>\n",
              "    </tr>\n",
              "    <tr>\n",
              "      <th>75%</th>\n",
              "      <td>56.000000</td>\n",
              "      <td>95108.500000</td>\n",
              "      <td>7.000000</td>\n",
              "      <td>3869.000000</td>\n",
              "      <td>225.000000</td>\n",
              "      <td>225.000000</td>\n",
              "      <td>1.000000</td>\n",
              "      <td>1.000000</td>\n",
              "      <td>1.000000</td>\n",
              "    </tr>\n",
              "    <tr>\n",
              "      <th>max</th>\n",
              "      <td>69.000000</td>\n",
              "      <td>119999.000000</td>\n",
              "      <td>9.000000</td>\n",
              "      <td>4999.000000</td>\n",
              "      <td>299.000000</td>\n",
              "      <td>299.000000</td>\n",
              "      <td>1.000000</td>\n",
              "      <td>1.000000</td>\n",
              "      <td>1.000000</td>\n",
              "    </tr>\n",
              "  </tbody>\n",
              "</table>\n",
              "</div>"
            ],
            "text/plain": [
              "                Age         Income  Travel_Frequency  Vacation_Budget  \\\n",
              "count  52444.000000   52444.000000      52444.000000     52444.000000   \n",
              "mean      43.507360   70017.271280          4.489265      2741.799062   \n",
              "std       14.985597   28847.560428          2.876130      1296.922423   \n",
              "min       18.000000   20001.000000          0.000000       500.000000   \n",
              "25%       31.000000   45048.250000          2.000000      1622.000000   \n",
              "50%       43.000000   70167.000000          4.000000      2733.000000   \n",
              "75%       56.000000   95108.500000          7.000000      3869.000000   \n",
              "max       69.000000  119999.000000          9.000000      4999.000000   \n",
              "\n",
              "       Proximity_to_Mountains  Proximity_to_Beaches          Pets  \\\n",
              "count            52444.000000          52444.000000  52444.000000   \n",
              "mean               149.943502            149.888452      0.500858   \n",
              "std                 86.548644             86.469248      0.500004   \n",
              "min                  0.000000              0.000000      0.000000   \n",
              "25%                 75.000000             75.750000      0.000000   \n",
              "50%                150.000000            150.000000      1.000000   \n",
              "75%                225.000000            225.000000      1.000000   \n",
              "max                299.000000            299.000000      1.000000   \n",
              "\n",
              "       Environmental_Concerns    Preference  \n",
              "count            52444.000000  52444.000000  \n",
              "mean                 0.498436      0.250706  \n",
              "std                  0.500002      0.433423  \n",
              "min                  0.000000      0.000000  \n",
              "25%                  0.000000      0.000000  \n",
              "50%                  0.000000      0.000000  \n",
              "75%                  1.000000      1.000000  \n",
              "max                  1.000000      1.000000  "
            ]
          },
          "execution_count": 7,
          "metadata": {},
          "output_type": "execute_result"
        }
      ],
      "source": [
        "import pandas as pd\n",
        "\n",
        "preferences_df = pd.read_csv(\"../outputs/datasets/raw/mountains_vs_beaches_preferences.csv\")\n",
        "preferences_df.describe()"
      ]
    },
    {
      "cell_type": "code",
      "execution_count": 8,
      "metadata": {},
      "outputs": [
        {
          "data": {
            "text/html": [
              "<div>\n",
              "<style scoped>\n",
              "    .dataframe tbody tr th:only-of-type {\n",
              "        vertical-align: middle;\n",
              "    }\n",
              "\n",
              "    .dataframe tbody tr th {\n",
              "        vertical-align: top;\n",
              "    }\n",
              "\n",
              "    .dataframe thead th {\n",
              "        text-align: right;\n",
              "    }\n",
              "</style>\n",
              "<table border=\"1\" class=\"dataframe\">\n",
              "  <thead>\n",
              "    <tr style=\"text-align: right;\">\n",
              "      <th></th>\n",
              "      <th>Age</th>\n",
              "      <th>Gender</th>\n",
              "      <th>Income</th>\n",
              "      <th>Education_Level</th>\n",
              "      <th>Travel_Frequency</th>\n",
              "      <th>Preferred_Activities</th>\n",
              "      <th>Vacation_Budget</th>\n",
              "      <th>Location</th>\n",
              "      <th>Proximity_to_Mountains</th>\n",
              "      <th>Proximity_to_Beaches</th>\n",
              "      <th>Favorite_Season</th>\n",
              "      <th>Pets</th>\n",
              "      <th>Environmental_Concerns</th>\n",
              "      <th>Preference</th>\n",
              "    </tr>\n",
              "  </thead>\n",
              "  <tbody>\n",
              "    <tr>\n",
              "      <th>0</th>\n",
              "      <td>56</td>\n",
              "      <td>male</td>\n",
              "      <td>71477</td>\n",
              "      <td>bachelor</td>\n",
              "      <td>9</td>\n",
              "      <td>skiing</td>\n",
              "      <td>2477</td>\n",
              "      <td>urban</td>\n",
              "      <td>175</td>\n",
              "      <td>267</td>\n",
              "      <td>summer</td>\n",
              "      <td>0</td>\n",
              "      <td>1</td>\n",
              "      <td>1</td>\n",
              "    </tr>\n",
              "    <tr>\n",
              "      <th>1</th>\n",
              "      <td>69</td>\n",
              "      <td>male</td>\n",
              "      <td>88740</td>\n",
              "      <td>master</td>\n",
              "      <td>1</td>\n",
              "      <td>swimming</td>\n",
              "      <td>4777</td>\n",
              "      <td>suburban</td>\n",
              "      <td>228</td>\n",
              "      <td>190</td>\n",
              "      <td>fall</td>\n",
              "      <td>0</td>\n",
              "      <td>1</td>\n",
              "      <td>0</td>\n",
              "    </tr>\n",
              "    <tr>\n",
              "      <th>2</th>\n",
              "      <td>46</td>\n",
              "      <td>female</td>\n",
              "      <td>46562</td>\n",
              "      <td>master</td>\n",
              "      <td>0</td>\n",
              "      <td>skiing</td>\n",
              "      <td>1469</td>\n",
              "      <td>urban</td>\n",
              "      <td>71</td>\n",
              "      <td>280</td>\n",
              "      <td>winter</td>\n",
              "      <td>0</td>\n",
              "      <td>0</td>\n",
              "      <td>1</td>\n",
              "    </tr>\n",
              "    <tr>\n",
              "      <th>3</th>\n",
              "      <td>32</td>\n",
              "      <td>non-binary</td>\n",
              "      <td>99044</td>\n",
              "      <td>high school</td>\n",
              "      <td>6</td>\n",
              "      <td>hiking</td>\n",
              "      <td>1482</td>\n",
              "      <td>rural</td>\n",
              "      <td>31</td>\n",
              "      <td>255</td>\n",
              "      <td>summer</td>\n",
              "      <td>1</td>\n",
              "      <td>0</td>\n",
              "      <td>1</td>\n",
              "    </tr>\n",
              "    <tr>\n",
              "      <th>4</th>\n",
              "      <td>60</td>\n",
              "      <td>female</td>\n",
              "      <td>106583</td>\n",
              "      <td>high school</td>\n",
              "      <td>5</td>\n",
              "      <td>sunbathing</td>\n",
              "      <td>516</td>\n",
              "      <td>suburban</td>\n",
              "      <td>23</td>\n",
              "      <td>151</td>\n",
              "      <td>winter</td>\n",
              "      <td>1</td>\n",
              "      <td>1</td>\n",
              "      <td>0</td>\n",
              "    </tr>\n",
              "  </tbody>\n",
              "</table>\n",
              "</div>"
            ],
            "text/plain": [
              "   Age      Gender  Income Education_Level  Travel_Frequency  \\\n",
              "0   56        male   71477        bachelor                 9   \n",
              "1   69        male   88740          master                 1   \n",
              "2   46      female   46562          master                 0   \n",
              "3   32  non-binary   99044     high school                 6   \n",
              "4   60      female  106583     high school                 5   \n",
              "\n",
              "  Preferred_Activities  Vacation_Budget  Location  Proximity_to_Mountains  \\\n",
              "0               skiing             2477     urban                     175   \n",
              "1             swimming             4777  suburban                     228   \n",
              "2               skiing             1469     urban                      71   \n",
              "3               hiking             1482     rural                      31   \n",
              "4           sunbathing              516  suburban                      23   \n",
              "\n",
              "   Proximity_to_Beaches Favorite_Season  Pets  Environmental_Concerns  \\\n",
              "0                   267          summer     0                       1   \n",
              "1                   190            fall     0                       1   \n",
              "2                   280          winter     0                       0   \n",
              "3                   255          summer     1                       0   \n",
              "4                   151          winter     1                       1   \n",
              "\n",
              "   Preference  \n",
              "0           1  \n",
              "1           0  \n",
              "2           1  \n",
              "3           1  \n",
              "4           0  "
            ]
          },
          "execution_count": 8,
          "metadata": {},
          "output_type": "execute_result"
        }
      ],
      "source": [
        "preferences_df.head()"
      ]
    },
    {
      "cell_type": "markdown",
      "metadata": {},
      "source": [
        "---"
      ]
    },
    {
      "cell_type": "markdown",
      "metadata": {},
      "source": [
        "# Conclusion\n",
        "\n",
        "The raw data was successfully saved in the folder `data/raw`. We do not need to remove any unnecessary data."
      ]
    },
    {
      "cell_type": "markdown",
      "metadata": {},
      "source": [
        "# Next Steps\n",
        "\n",
        "The next step is to perform data preprocessing - cleaning and preparing the data for the model."
      ]
    }
  ],
  "metadata": {
    "accelerator": "GPU",
    "colab": {
      "name": "Data Practitioner Jupyter Notebook.ipynb",
      "provenance": [],
      "toc_visible": true
    },
    "interpreter": {
      "hash": "8b8334dab9339717f727a1deaf837b322d7a41c20d15cc86be99a8e69ceec8ce"
    },
    "kernelspec": {
      "display_name": "Python 3.8.12 64-bit ('3.8.12': pyenv)",
      "name": "python3"
    },
    "language_info": {
      "codemirror_mode": {
        "name": "ipython",
        "version": 3
      },
      "file_extension": ".py",
      "mimetype": "text/x-python",
      "name": "python",
      "nbconvert_exporter": "python",
      "pygments_lexer": "ipython3",
      "version": "3.8.18"
    },
    "orig_nbformat": 2
  },
  "nbformat": 4,
  "nbformat_minor": 2
}
